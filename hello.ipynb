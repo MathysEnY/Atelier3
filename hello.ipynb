static void displayGridLine() {
    System.out.println("+---------------+---------+-----+----------+");
}

static void displayProductGridHeader() {
    displayGridLine();
    System.out.println("| Product       | € Unit  | Qty |   price  |");
    displayGridLine();
}

static void displayProductGridFooter(double total) {
    displayGridLine();
    System.out.printf("                                | %7.2f€ |\n", total);
    System.out.println("                                +----------+");
}